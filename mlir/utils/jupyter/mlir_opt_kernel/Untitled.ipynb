{
 "cells": [
  {
   "cell_type": "code",
   "execution_count": null,
   "metadata": {},
   "outputs": [],
   "source": []
  },
  {
   "cell_type": "code",
   "execution_count": null,
   "metadata": {},
   "outputs": [],
   "source": [
    "--help"
   ]
  },
  {
   "cell_type": "code",
   "execution_count": null,
   "metadata": {},
   "outputs": [],
   "source": [
    "-help\n"
   ]
  }
 ],
 "metadata": {
  "kernelspec": {
   "display_name": "MlirOpt",
   "language": "mlir",
   "name": "mlir"
  }
 },
 "nbformat": 4,
 "nbformat_minor": 4
}
