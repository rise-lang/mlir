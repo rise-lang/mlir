{
 "cells": [
  {
   "cell_type": "code",
   "execution_count": 2,
   "metadata": {},
   "outputs": [
    {
     "ename": "",
     "evalue": "1",
     "output_type": "error",
     "traceback": []
    },
    {
     "name": "stderr",
     "output_type": "stream",
     "text": [
      "\u001b[1m<<input>>:1:1: \u001b[0m\u001b[0;1;31merror: \u001b[0m\u001b[1mexpected operation name in quotes\n",
      "\u001b[0m-help\n",
      "\u001b[0;1;32m^\n",
      "\u001b[0m"
     ]
    }
   ],
   "source": [
    "-help"
   ]
  },
  {
   "cell_type": "code",
   "execution_count": 5,
   "metadata": {},
   "outputs": [
    {
     "ename": "",
     "evalue": "1",
     "output_type": "error",
     "traceback": []
    },
    {
     "name": "stderr",
     "output_type": "stream",
     "text": [
      "\u001b[1m<<input>>:1:1: \u001b[0m\u001b[0;1;31merror: \u001b[0m\u001b[1m'some.op' op created with unregistered dialect. If this is intended, please call allowUnregisteredDialects() on the MLIRContext, or use -allow-unregistered-dialect with mlir-opt\n",
      "\u001b[0m\"some.op\"() : () -> f32\n",
      "\u001b[0;1;32m^\n",
      "\u001b[0m\u001b[1m<<input>>:1:1: \u001b[0m\u001b[0;1;30mnote: \u001b[0m\u001b[1msee current operation: %0 = \"some.op\"() : () -> f32\n",
      "\u001b[0m"
     ]
    }
   ],
   "source": [
    "\"some.op\"() : () -> f32"
   ]
  },
  {
   "cell_type": "code",
   "execution_count": 12,
   "metadata": {},
   "outputs": [
    {
     "ename": "",
     "evalue": "1",
     "output_type": "error",
     "traceback": []
    },
    {
     "name": "stderr",
     "output_type": "stream",
     "text": [
      "mlir-opt: Unknown command line argument '--run-reproducer'.  Try: '/home/martin/development/phd/projects/MLIR/mlir/llvm/cmake-build-debug/bin/mlir-opt --help'\n",
      "mlir-opt: Did you mean '--max-dependences'?\n"
     ]
    }
   ],
   "source": [
    "// configuration: --help\n",
    "func @foo(%tensor: tensor<2x3xf64>) -> tensor<3x2xf64>"
   ]
  },
  {
   "cell_type": "code",
   "execution_count": null,
   "metadata": {},
   "outputs": [],
   "source": []
  }
 ],
 "metadata": {
  "kernelspec": {
   "display_name": "MlirOpt",
   "language": "mlir",
   "name": "mlir"
  },
  "language_info": {
   "codemirror_mode": {
    "name": "mlir"
   },
   "file_extension": ".mlir",
   "mimetype": "text/x-mlir",
   "name": "mlir",
   "pygments_lexer": "text"
  }
 },
 "nbformat": 4,
 "nbformat_minor": 4
}
